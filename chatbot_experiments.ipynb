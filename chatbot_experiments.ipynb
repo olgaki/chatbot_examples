{
  "nbformat": 4,
  "nbformat_minor": 0,
  "metadata": {
    "colab": {
      "provenance": [],
      "collapsed_sections": [
        "ebkaqC-qn-rE"
      ],
      "gpuType": "T4",
      "authorship_tag": "ABX9TyOi7fGD5mxHgz3EAuxPZKix",
      "include_colab_link": true
    },
    "kernelspec": {
      "name": "python3",
      "display_name": "Python 3"
    },
    "language_info": {
      "name": "python"
    },
    "accelerator": "GPU"
  },
  "cells": [
    {
      "cell_type": "markdown",
      "metadata": {
        "id": "view-in-github",
        "colab_type": "text"
      },
      "source": [
        "<a href=\"https://colab.research.google.com/github/olgaki/chatbot_examples/blob/main/chatbot_experiments.ipynb\" target=\"_parent\"><img src=\"https://colab.research.google.com/assets/colab-badge.svg\" alt=\"Open In Colab\"/></a>"
      ]
    },
    {
      "cell_type": "markdown",
      "source": [
        "# Prerequisites\n",
        "\n"
      ],
      "metadata": {
        "id": "aIwgz3tKnmy-"
      }
    },
    {
      "cell_type": "code",
      "source": [
        "!pip install streamlit==1.28.0 tensorflow==2.15.0\n",
        "!npm install localtunnel"
      ],
      "metadata": {
        "id": "MDO8hTKwqjnM"
      },
      "execution_count": null,
      "outputs": []
    },
    {
      "cell_type": "markdown",
      "source": [
        "# Simple chatbot app\n",
        "\n",
        "`This code creates a basic chatbot that guides the user through a restaurant table booking, collecting necessary information and providing confirmation. It uses a simple rule-based approach following the core principles of a state machine.`"
      ],
      "metadata": {
        "id": "ebkaqC-qn-rE"
      }
    },
    {
      "cell_type": "code",
      "source": [
        "%%writefile app.py\n",
        "import streamlit as st\n",
        "import random\n",
        "\n",
        "# Basic rule-based agent simulating DQN-like behavior\n",
        "class RestaurantEnv:\n",
        "    def __init__(self):\n",
        "        self.slots = {\n",
        "            \"people\": None,\n",
        "            \"day\": None,\n",
        "            \"time\": None,\n",
        "        }\n",
        "\n",
        "    def reset(self):\n",
        "        for k in self.slots:\n",
        "            self.slots[k] = None\n",
        "\n",
        "    def is_booking_ready(self):\n",
        "        return all(self.slots.values())\n",
        "\n",
        "    def get_missing_slot(self):\n",
        "        for slot, value in self.slots.items():\n",
        "            if value is None:\n",
        "                return slot\n",
        "        return None\n",
        "\n",
        "    def fill_slot(self, slot):\n",
        "        if slot == \"people\":\n",
        "            self.slots[\"people\"] = str(random.randint(1, 6))\n",
        "        elif slot == \"day\":\n",
        "            self.slots[\"day\"] = random.choice([\"Monday\", \"Tuesday\", \"Friday\"])\n",
        "        elif slot == \"time\":\n",
        "            self.slots[\"time\"] = random.choice([\"18:00\", \"20:00\"])\n",
        "\n",
        "\n",
        "# Initialize session state\n",
        "if 'env' not in st.session_state:\n",
        "    st.session_state.env = RestaurantEnv()\n",
        "    st.session_state.env.reset()\n",
        "    st.session_state.messages = [{\"role\": \"assistant\", \"content\": \"Hi! I can help you book a table. Let's get started!\"}]\n",
        "    st.session_state.processed = True\n",
        "\n",
        "# Show chat history\n",
        "for msg in st.session_state.messages:\n",
        "    with st.chat_message(msg[\"role\"]):\n",
        "        st.markdown(msg[\"content\"])\n",
        "\n",
        "# Get user input\n",
        "if prompt := st.chat_input(\"Type your message...\"):\n",
        "    st.session_state.messages.append({\"role\": \"user\", \"content\": prompt})\n",
        "\n",
        "    env = st.session_state.env\n",
        "\n",
        "    # Simple rule-based simulation of dialogue\n",
        "    if env.is_booking_ready():\n",
        "        response = \"Your table is already booked! 🎉\"\n",
        "    else:\n",
        "        missing = env.get_missing_slot()\n",
        "        if missing:\n",
        "            env.fill_slot(missing)\n",
        "            responses = {\n",
        "                \"people\": \"How many people?\",\n",
        "                \"day\": \"What day would you like to book?\",\n",
        "                \"time\": \"What time should I book the table for?\"\n",
        "            }\n",
        "            response = responses[missing]\n",
        "        else:\n",
        "            response = \"All set! Booking your table now. 🎉\"\n",
        "\n",
        "    st.session_state.messages.append({\"role\": \"assistant\", \"content\": response})\n",
        "    st.rerun()\n"
      ],
      "metadata": {
        "id": "tCC9mBG4oXQ7",
        "outputId": "3f70a767-5495-487a-865a-01b274ecfe6d",
        "colab": {
          "base_uri": "https://localhost:8080/"
        }
      },
      "execution_count": 2,
      "outputs": [
        {
          "output_type": "stream",
          "name": "stdout",
          "text": [
            "Writing app.py\n"
          ]
        }
      ]
    },
    {
      "cell_type": "markdown",
      "source": [
        "# LSTM Chatbot app\n",
        "\n",
        "` An LSTM-based chatbot for restaurant table bookings within a Streamlit application.`"
      ],
      "metadata": {
        "id": "9P8BrtwtplF3"
      }
    },
    {
      "cell_type": "code",
      "source": [
        "%%writefile app1.py\n",
        "import streamlit as st\n",
        "import numpy as np\n",
        "import random\n",
        "from tensorflow.keras.models import Sequential\n",
        "from tensorflow.keras.layers import LSTM, Dense\n",
        "\n",
        "# ------------------------------\n",
        "# Environment to manage state\n",
        "# ------------------------------\n",
        "class RestaurantEnv:\n",
        "    def __init__(self):\n",
        "        self.slots = {\"people\": None, \"day\": None, \"time\": None}\n",
        "\n",
        "    def reset(self):\n",
        "        for k in self.slots:\n",
        "            self.slots[k] = None\n",
        "\n",
        "    def get_state_vector(self):\n",
        "        return np.array([float(v is not None) for v in self.slots.values()])\n",
        "\n",
        "    def is_booking_ready(self):\n",
        "        return all(self.slots.values())\n",
        "\n",
        "    def fill_slot(self, slot, value):\n",
        "        if slot in self.slots:\n",
        "            self.slots[slot] = value\n",
        "\n",
        "# ------------------------------\n",
        "# Create and train LSTM model\n",
        "# ------------------------------\n",
        "def create_model(input_dim=3, output_dim=4):\n",
        "    model = Sequential()\n",
        "    model.add(LSTM(64, input_shape=(1, input_dim), return_sequences=True))\n",
        "    model.add(LSTM(32))\n",
        "    model.add(Dense(output_dim, activation='softmax'))\n",
        "    model.compile(loss='categorical_crossentropy', optimizer='adam')\n",
        "    return model\n",
        "\n",
        "def train_lstm_on_synthetic_data(model):\n",
        "    X = []\n",
        "    y = []\n",
        "\n",
        "    training_samples = [\n",
        "        ([0, 0, 0], 0),  # Ask for people\n",
        "        ([1, 0, 0], 1),  # Ask for day\n",
        "        ([1, 1, 0], 2),  # Ask for time\n",
        "        ([1, 1, 1], 3),  # Confirm\n",
        "    ]\n",
        "\n",
        "    for state, action in training_samples:\n",
        "        for _ in range(100):\n",
        "            noisy = [min(1.0, max(0.0, s + random.uniform(-0.1, 0.1))) for s in state]\n",
        "            X.append(noisy)\n",
        "            y.append(action)\n",
        "\n",
        "    X = np.array(X).reshape(-1, 1, 3)\n",
        "    y = np.eye(4)[y]\n",
        "\n",
        "    model.fit(X, y, epochs=50, verbose=0)\n",
        "    return model\n",
        "\n",
        "# ------------------------------\n",
        "# Initialize session state\n",
        "# ------------------------------\n",
        "if \"env\" not in st.session_state:\n",
        "    st.session_state.env = RestaurantEnv()\n",
        "    st.session_state.env.reset()\n",
        "\n",
        "    model = create_model()\n",
        "    trained_model = train_lstm_on_synthetic_data(model)\n",
        "    st.session_state.model = trained_model\n",
        "\n",
        "    st.session_state.last_slot_asked = None\n",
        "    st.session_state.messages = [{\"role\": \"assistant\", \"content\": \"Hi! I can help you book a table. Let's get started!\"}]\n",
        "\n",
        "# ------------------------------\n",
        "# Show chat history\n",
        "# ------------------------------\n",
        "for msg in st.session_state.messages:\n",
        "    with st.chat_message(msg[\"role\"]):\n",
        "        st.markdown(msg[\"content\"])\n",
        "\n",
        "# ------------------------------\n",
        "# Handle user input\n",
        "# ------------------------------\n",
        "if prompt := st.chat_input(\"Type your message...\"):\n",
        "    st.session_state.messages.append({\"role\": \"user\", \"content\": prompt})\n",
        "    env = st.session_state.env\n",
        "\n",
        "    # Fill previously requested slot\n",
        "    if st.session_state.last_slot_asked:\n",
        "        env.fill_slot(st.session_state.last_slot_asked, prompt)\n",
        "\n",
        "    # Predict next action\n",
        "    state_vec = env.get_state_vector().reshape(1, 1, 3)\n",
        "    prediction = st.session_state.model.predict(state_vec, verbose=0)\n",
        "    action = int(np.argmax(prediction))\n",
        "\n",
        "    # Define action meanings\n",
        "    slot_map = {0: \"people\", 1: \"day\", 2: \"time\"}\n",
        "    slot_prompts = {\n",
        "        \"people\": \"How many people should I book for?\",\n",
        "        \"day\": \"Which day would you like the booking?\",\n",
        "        \"time\": \"What time should I book it for?\"\n",
        "    }\n",
        "\n",
        "    if action == 3 and env.is_booking_ready():\n",
        "        response = f\"✅ Your table is booked for {env.slots['people']} people on {env.slots['day']} at {env.slots['time']}! 🎉\"\n",
        "        st.session_state.last_slot_asked = None\n",
        "    else:\n",
        "        slot = slot_map.get(action, None)\n",
        "        response = slot_prompts.get(slot, \"Could you clarify something?\")\n",
        "        st.session_state.last_slot_asked = slot\n",
        "\n",
        "    st.session_state.messages.append({\"role\": \"assistant\", \"content\": response})\n",
        "    st.rerun()\n"
      ],
      "metadata": {
        "id": "37e3qn6nppg5",
        "outputId": "49b32fbe-de8b-4b2e-ef3d-0d62aa742092",
        "colab": {
          "base_uri": "https://localhost:8080/"
        }
      },
      "execution_count": 3,
      "outputs": [
        {
          "output_type": "stream",
          "name": "stdout",
          "text": [
            "Writing app1.py\n"
          ]
        }
      ]
    },
    {
      "cell_type": "markdown",
      "source": [
        "# Run\n",
        "To run use the following command:\n",
        "\n",
        "(Copy the IP address to the requested input field before launching streamlit.)\n",
        "\n",
        "\n"
      ],
      "metadata": {
        "id": "dC0rUR1drbbc"
      }
    },
    {
      "cell_type": "code",
      "source": [
        "!streamlit run <YOUR_APP_NAME>.py &>/content/logs.txt & npx localtunnel --port 8501 & curl ipv4.icanhazip.com"
      ],
      "metadata": {
        "id": "fDt_XSMxs099"
      },
      "execution_count": null,
      "outputs": []
    },
    {
      "cell_type": "markdown",
      "source": [
        "# Kill lingering streamlit"
      ],
      "metadata": {
        "id": "C51D6y-Fp1uc"
      }
    },
    {
      "cell_type": "code",
      "source": [
        "!lsof -i :8501  # Kill if occupied\n",
        "!pkill -f streamlit"
      ],
      "metadata": {
        "id": "6QxbymI3tkNe"
      },
      "execution_count": 7,
      "outputs": []
    }
  ]
}